{
 "cells": [
  {
   "cell_type": "markdown",
   "metadata": {},
   "source": [
    "# Introduction to Model Deployment with Ray Serve\n",
    "\n",
    "© 2021-2022, Anyscale. All Rights Reserved\n",
    "\n",
    "<img src=\"images/ray-logo.png\" height=\"15%\" width=\"30%\">\n",
    "\n",
    "## About This Tutorial\n",
    "\n",
    "In this tutorial, we'll cover the basic Ray Core APIs and its fundamental patterns. This is an introductory material, covering three basic distributed Ray core APIs patterns:\n",
    "\n",
    " * Remote Functions as Tasks\n",
    " * Remote Objects as Futures\n",
    " * Remote Classes as stateful Actors\n",
    " * Introduction to Ray Serve and model deployments with Ray Serve\n",
    " \n",
    " \n",
    "There are other advance [Ray Patterns and Anti-patterns](https://docs.ray.io/en/latest/ray-design-patterns/index.html), which are not covered in this tutorial. Mainly applicable when writing more complex distributed applications, we recommend reading them to equip yourself to use Ray APIs more effectively.\n",
    "\n",
    "\n",
    "See the instructions in the [README](./README.md) for setting up your environment to use this tutorial."
   ]
  },
  {
   "cell_type": "markdown",
   "metadata": {},
   "source": [
    "|     | Lesson | Description |\n",
    "| :-- | :----- | :---------- |\n",
    "|     | **Module 1** | **Focus on Ray Core API Patterns and Ray CLI** |\n",
    "| 00  | [Ray Tutorial Overview](ex_00_tutorial_overview) | Overview of this tutorial. |\n",
    "| 01  | [Ray Remote Functions ](ex_01_remote_funcs.ipynb) |The Remote Function as StateLess Tasks Pattern. |\n",
    "| 02  | [Ray Remote Objects](ex_02_remote_objs.ipynb) |The Remote Objects as Futures Pattern. |\n",
    "| 03  | [Ray Remote Classes](ex_03_remote_classes.ipynb) |The Remote Classes as Stateful Actors Pattern |d\n",
    "|     | **Module 2** | **Introduction Ray Serve and model deployments** |\n",
    "| 04  | [Ray Serve Model Serving Challenges](ex_08_model_serving_challenges.ipynb) | What are model serving challenges |"
   ]
  }
 ],
 "metadata": {
  "kernelspec": {
   "display_name": "Python 3 (ipykernel)",
   "language": "python",
   "name": "python3"
  },
  "language_info": {
   "codemirror_mode": {
    "name": "ipython",
    "version": 3
   },
   "file_extension": ".py",
   "mimetype": "text/x-python",
   "name": "python",
   "nbconvert_exporter": "python",
   "pygments_lexer": "ipython3",
   "version": "3.8.12"
  }
 },
 "nbformat": 4,
 "nbformat_minor": 4
}
