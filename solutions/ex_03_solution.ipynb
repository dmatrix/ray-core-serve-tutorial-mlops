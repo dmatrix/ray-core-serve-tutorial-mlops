{
 "cells": [
  {
   "cell_type": "code",
   "execution_count": 11,
   "id": "e425ccaf-273b-4126-8b2b-147dbbd8aa8a",
   "metadata": {},
   "outputs": [],
   "source": [
    "import logging\n",
    "import time\n",
    "from pprint import pprint\n",
    "import ray\n",
    "import random\n",
    "from random import randint\n",
    "import numpy as np"
   ]
  },
  {
   "cell_type": "code",
   "execution_count": 12,
   "id": "2f61c376-5c2f-4f26-bd57-1b50624dadbd",
   "metadata": {},
   "outputs": [],
   "source": [
    "from collections import defaultdict\n",
    "@ray.remote\n",
    "class LoggingActor(object):\n",
    "    def __init__(self):\n",
    "        self.logs = defaultdict(list)\n",
    "    \n",
    "    def log(self, index, message):\n",
    "        self.logs[index].append(message)\n",
    "    \n",
    "    def get_logs(self):\n",
    "        return dict(self.logs)\n",
    "    \n",
    "@ray.remote\n",
    "def run_experiment(experiment_index, logging_actor):\n",
    "    for i in range(5):\n",
    "        time.sleep(1)\n",
    "        # Push a logging message to the actor.\n",
    "        logging_actor.log.remote(experiment_index, 'On iteration {}'.format(i))  "
   ]
  },
  {
   "cell_type": "code",
   "execution_count": 13,
   "id": "566abe08-0af6-42e7-ba57-532166f4d0ce",
   "metadata": {},
   "outputs": [
    {
     "name": "stdout",
     "output_type": "stream",
     "text": [
      "RayContext(dashboard_url='127.0.0.1:8265', python_version='3.8.12', ray_version='1.12.0', ray_commit='f18fc31c7562990955556899090f8e8656b48d2d', address_info={'node_ip_address': '127.0.0.1', 'raylet_ip_address': '127.0.0.1', 'redis_address': None, 'object_store_address': '/tmp/ray/session_2022-05-23_07-58-25_331133_88314/sockets/plasma_store', 'raylet_socket_name': '/tmp/ray/session_2022-05-23_07-58-25_331133_88314/sockets/raylet', 'webui_url': '127.0.0.1:8265', 'session_dir': '/tmp/ray/session_2022-05-23_07-58-25_331133_88314', 'metrics_export_port': 55200, 'gcs_address': '127.0.0.1:51209', 'address': '127.0.0.1:51209', 'node_id': '3ae3813192a1d500ac38011ab6cf3d023a59c7eb8044d95b5d83282d'})\n"
     ]
    }
   ],
   "source": [
    "if ray.is_initialized:\n",
    "    ray.shutdown()\n",
    "context = ray.init(logging_level=logging.ERROR)\n",
    "pprint(context)"
   ]
  },
  {
   "cell_type": "code",
   "execution_count": 14,
   "id": "cd2a3f51-92a1-4ff9-8d22-56b47ebf69da",
   "metadata": {},
   "outputs": [],
   "source": [
    "logging_actor = LoggingActor.remote()\n",
    "experiment_ids = []\n",
    "for i in range(3):\n",
    "    experiment_ids.append(run_experiment.remote(i, logging_actor))"
   ]
  },
  {
   "cell_type": "code",
   "execution_count": 15,
   "id": "3ed4fc03-339f-4866-a3ef-dfd12051d078",
   "metadata": {},
   "outputs": [
    {
     "name": "stdout",
     "output_type": "stream",
     "text": [
      "{0: ['On iteration 0', 'On iteration 1', 'On iteration 2', 'On iteration 3', 'On iteration 4'], 1: ['On iteration 0', 'On iteration 1', 'On iteration 2', 'On iteration 3', 'On iteration 4'], 2: ['On iteration 0', 'On iteration 1', 'On iteration 2', 'On iteration 3', 'On iteration 4']}\n"
     ]
    }
   ],
   "source": [
    "logs = logging_actor.get_logs.remote()\n",
    "print(ray.get(logs))"
   ]
  }
 ],
 "metadata": {
  "kernelspec": {
   "display_name": "Python 3 (ipykernel)",
   "language": "python",
   "name": "python3"
  },
  "language_info": {
   "codemirror_mode": {
    "name": "ipython",
    "version": 3
   },
   "file_extension": ".py",
   "mimetype": "text/x-python",
   "name": "python",
   "nbconvert_exporter": "python",
   "pygments_lexer": "ipython3",
   "version": "3.8.12"
  }
 },
 "nbformat": 4,
 "nbformat_minor": 5
}
